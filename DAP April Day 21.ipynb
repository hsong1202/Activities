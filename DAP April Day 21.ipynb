{
 "cells": [
  {
   "cell_type": "code",
   "execution_count": 28,
   "metadata": {},
   "outputs": [
    {
     "name": "stdout",
     "output_type": "stream",
     "text": [
      "43\n",
      "['a', 'e', 'i', 'o', 'u']\n",
      "this is a in string1[36]\n",
      "this is e in string1[2]\n",
      "this is e in string1[28]\n",
      "this is e in string1[33]\n",
      "this is i in string1[6]\n",
      "this is o in string1[12]\n",
      "this is o in string1[17]\n",
      "this is o in string1[26]\n",
      "this is o in string1[41]\n",
      "this is u in string1[5]\n",
      "this is u in string1[21]\n"
     ]
    }
   ],
   "source": [
    "# Create an if statement: if 'age' is greater than or equal to 25, print \"Renting a car is more affordable\", however if 'age' is less than 25, print \"Renting a car is very expensive.\" using lambda function\n",
    "\n",
    "# rental_car_price = lambda a: if a >= 25 \"renting a car is more affordable\" else \"renting a car is very expensive\"\n",
    "\n",
    "\n",
    "# 3. Loop over the following string: \"The quick brown fox jumps over the lazy dog\"\n",
    "# (1) count all the characters in the string and \n",
    "# (2) print out all the vowels\n",
    "\n",
    "string1 = \"The quick brown fox jumps over the lazy dog\"\n",
    "\n",
    "count = 0\n",
    "for char in string1:\n",
    "    \n",
    "    count = count+1\n",
    "print(count)\n",
    "\n",
    "vowels = 'aeiou'\n",
    "vList = []\n",
    "\n",
    "for char in vowels:\n",
    "    vList.append(char)\n",
    "print(vList)\n",
    "\n",
    "for vowel in vList:\n",
    "    innercounter = 0\n",
    "    for char in string1:\n",
    "        if vowel == char:\n",
    "            print(f\"this is {vowel} in string1[{innercounter}]\")\n",
    "            innercounter = innercounter +1 \n",
    "        else:\n",
    "            innercounter = innercounter +1 \n",
    "\n",
    "\n",
    "\n"
   ]
  },
  {
   "cell_type": "code",
   "execution_count": null,
   "metadata": {},
   "outputs": [],
   "source": []
  }
 ],
 "metadata": {
  "kernelspec": {
   "display_name": "Python 3",
   "language": "python",
   "name": "python3"
  },
  "language_info": {
   "codemirror_mode": {
    "name": "ipython",
    "version": 3
   },
   "file_extension": ".py",
   "mimetype": "text/x-python",
   "name": "python",
   "nbconvert_exporter": "python",
   "pygments_lexer": "ipython3",
   "version": "3.11.3"
  },
  "orig_nbformat": 4
 },
 "nbformat": 4,
 "nbformat_minor": 2
}
