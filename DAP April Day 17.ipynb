{
 "cells": [
  {
   "cell_type": "code",
   "execution_count": 48,
   "metadata": {},
   "outputs": [
    {
     "name": "stdout",
     "output_type": "stream",
     "text": [
      "0, stvmnoNone@gmail.com\n",
      "1, Nonemno789@gmail.com\n",
      "2, jklwxyNone@gmail.com\n",
      "3, Nonemno789@gmail.com\n",
      "4, jklwxy123@gmail.com\n",
      "5, stvNoneNone@gmail.com\n",
      "6, abcNone789@gmail.com\n",
      "7, abcNone789@gmail.com\n",
      "8, stvNoneNone@gmail.com\n",
      "9, jklNone789@gmail.com\n"
     ]
    }
   ],
   "source": [
    "# random email generator\n",
    "\n",
    "import random as rand\n",
    "\n",
    "x = []\n",
    "\n",
    "for i in range(1,11):\n",
    "    a = rand.randint(1,3)\n",
    "    b = rand.randint(1,3)\n",
    "    c = rand.randint(1,3)\n",
    "\n",
    "    ab = None\n",
    "    cd = None\n",
    "    ef = None\n",
    "\n",
    "    if a == 1:\n",
    "        ab=\"abc\"\n",
    "    elif a==2:\n",
    "        cd=\"def\"\n",
    "    else:\n",
    "        ef=\"123\"    \n",
    "\n",
    "    if b == 1:\n",
    "        ab=\"jkl\"\n",
    "    elif b==2:\n",
    "        cd=\"mno\"\n",
    "    else:\n",
    "        ef=\"456\"  \n",
    "\n",
    "    if c == 1:\n",
    "        ab=\"stv\"\n",
    "    elif c==2:\n",
    "        cd=\"wxy\"\n",
    "    else:\n",
    "        ef=\"789\"    \n",
    "    fakeemail = f\"{ab}{cd}{ef}@gmail.com\"\n",
    "    \n",
    "    x.append(fakeemail)\n",
    "    \n",
    "# print(x)\n",
    "xlen = len(x)\n",
    "for i in range(xlen):\n",
    "    print(f\"{i}, {x[i]}\")\n",
    "\n"
   ]
  },
  {
   "cell_type": "code",
   "execution_count": 49,
   "metadata": {},
   "outputs": [
    {
     "name": "stdout",
     "output_type": "stream",
     "text": [
      "[1, 'abc', 3.5, [1, 2, 3], {'a': 34}]\n",
      "[['a', 'b', 'c', 'd', 'e'], ['a', 'b', 'c', 'd', 'e'], ['a', 'b', 'c', 'd', 'e'], ['a', 'b', 'c', 'd', 'e'], ['a', 'b', 'c', 'd', 'e']]\n"
     ]
    }
   ],
   "source": [
    "\n",
    "# assign list element to each variable\n",
    "\n",
    "initialList = [1, \"abc\", 3.5, [1,2,3], {\"a\":34}]\n",
    "print(initialList)\n",
    "\n",
    "alpha = \"abcde\"\n",
    "letterlen = len(alpha)\n",
    "\n",
    "x = []\n",
    "for i in range(letterlen):\n",
    "    x.append(alpha[i])\n",
    "\n",
    "y=[]\n",
    "for i in x:\n",
    "    y.append(x)\n",
    "\n",
    "print(y)\n"
   ]
  },
  {
   "cell_type": "code",
   "execution_count": 50,
   "metadata": {},
   "outputs": [
    {
     "ename": "TypeError",
     "evalue": "'<' not supported between instances of 'int' and 'str'",
     "output_type": "error",
     "traceback": [
      "\u001b[1;31m---------------------------------------------------------------------------\u001b[0m",
      "\u001b[1;31mTypeError\u001b[0m                                 Traceback (most recent call last)",
      "Cell \u001b[1;32mIn[50], line 14\u001b[0m\n\u001b[0;32m     10\u001b[0m list3 \u001b[39m=\u001b[39m \u001b[39mlist\u001b[39m \u001b[39m+\u001b[39m list2\n\u001b[0;32m     12\u001b[0m \u001b[39mlist\u001b[39m\u001b[39m.\u001b[39mextend(list2)\n\u001b[1;32m---> 14\u001b[0m list3\u001b[39m.\u001b[39;49msort()\n",
      "\u001b[1;31mTypeError\u001b[0m: '<' not supported between instances of 'int' and 'str'"
     ]
    }
   ],
   "source": [
    "\n",
    "# list = [\"Carlos\", 21, 55.98, {\"decade\":\"10\"}, [10,\"big\"]]\n",
    "# list[0] = \"Adam\"\n",
    "# list.append(52.9)\n",
    "# # print(list)\n",
    "# # print(len(list))\n",
    "\n",
    "# list2 = list[0:3]\n",
    "# # print(list2)\n",
    "\n",
    "# list3 = list + list2\n",
    "\n",
    "# list.extend(list2)\n",
    "\n",
    "# list3.sort()"
   ]
  }
 ],
 "metadata": {
  "kernelspec": {
   "display_name": "Python 3",
   "language": "python",
   "name": "python3"
  },
  "language_info": {
   "codemirror_mode": {
    "name": "ipython",
    "version": 3
   },
   "file_extension": ".py",
   "mimetype": "text/x-python",
   "name": "python",
   "nbconvert_exporter": "python",
   "pygments_lexer": "ipython3",
   "version": "3.11.3"
  },
  "orig_nbformat": 4
 },
 "nbformat": 4,
 "nbformat_minor": 2
}
