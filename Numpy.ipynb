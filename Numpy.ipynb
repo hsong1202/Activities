{
 "cells": [
  {
   "cell_type": "code",
   "execution_count": 36,
   "metadata": {},
   "outputs": [
    {
     "name": "stdout",
     "output_type": "stream",
     "text": [
      "a arrange:\n",
      " [ 0  1  2  3  4  5  6  7  8  9 10 11 12 13 14]\n",
      "a reshape:\n",
      " [[ 0  1  2  3  4]\n",
      " [ 5  6  7  8  9]\n",
      " [10 11 12 13 14]]\n",
      "a shape: (3, 5)\n",
      "a ndim: 2\n",
      "a dtype: int32\n",
      "a itemsize: 4\n",
      "a size: 15\n",
      "a type: <class 'numpy.ndarray'>\n",
      "b type: <class 'numpy.ndarray'>\n"
     ]
    },
    {
     "data": {
      "text/plain": [
       "numpy.ndarray"
      ]
     },
     "execution_count": 36,
     "metadata": {},
     "output_type": "execute_result"
    }
   ],
   "source": [
    "import numpy as np\n",
    "import csv as csv\n",
    "import time\n",
    "\n",
    "# dir(np.ndarray)\n",
    "# help(np.ndarray)\n",
    "\n",
    "a = np.arange(15)\n",
    "print('a arrange:\\n',a)\n",
    "\n",
    "a  = a.reshape(3, 5)\n",
    "print('a reshape:\\n',a)\n",
    "\n",
    "print('a shape:', a.shape)\n",
    "\n",
    "print('a ndim:',a.ndim)\n",
    "\n",
    "print('a dtype:',a.dtype.name)\n",
    "\n",
    "print('a itemsize:',a.itemsize)\n",
    "\n",
    "print('a size:',a.size)\n",
    "\n",
    "print('a type:',type( a))\n",
    "\n",
    "b= np.array([6,7,8])\n",
    "\n",
    "print('b type:',type(b))\n",
    "b.shape\n",
    "b.ndim\n",
    "b.dtype\n",
    "b.itemsize\n",
    "b.size\n"
   ]
  }
 ],
 "metadata": {
  "kernelspec": {
   "display_name": "Python 3",
   "language": "python",
   "name": "python3"
  },
  "language_info": {
   "codemirror_mode": {
    "name": "ipython",
    "version": 3
   },
   "file_extension": ".py",
   "mimetype": "text/x-python",
   "name": "python",
   "nbconvert_exporter": "python",
   "pygments_lexer": "ipython3",
   "version": "3.11.3"
  },
  "orig_nbformat": 4
 },
 "nbformat": 4,
 "nbformat_minor": 2
}
