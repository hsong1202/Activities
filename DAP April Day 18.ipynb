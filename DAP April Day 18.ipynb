{
 "cells": [
  {
   "cell_type": "code",
   "execution_count": null,
   "metadata": {},
   "outputs": [],
   "source": [
    "import numpy as np\n",
    "\n",
    "array1 = np.array([3,0,9,12,6])\n",
    "array1 = np.sort(array1)\n",
    "\n",
    "array2 = np.array([[3,2,4], [5,0,1]])\n",
    "print(np.sort(array2))\n",
    "\n",
    "array3 = np.array([\"banana\",\"cherry\", \"apple\"])\n",
    "print(np.sort(array3))\n",
    "\n",
    "array4 = np.array([True,False,True])\n",
    "print(np.sort(array4))\n",
    "\n"
   ]
  },
  {
   "cell_type": "code",
   "execution_count": 6,
   "metadata": {},
   "outputs": [
    {
     "name": "stdout",
     "output_type": "stream",
     "text": [
      "[[ 8  7]\n",
      " [ 9 10]\n",
      " [12 11]\n",
      " [ 2  1]\n",
      " [ 3  4]\n",
      " [ 5  6]]\n",
      "\n",
      "\n",
      "[[ 7  8]\n",
      " [ 9 10]\n",
      " [11 12]\n",
      " [ 1  2]\n",
      " [ 3  4]\n",
      " [ 5  6]]\n"
     ]
    }
   ],
   "source": [
    "import numpy as np\n",
    "\n",
    "arrayX = np.array([[2,1],[3,4]])\n",
    "\n",
    "arrayY = np.array([[5,6]])\n",
    "\n",
    "arrayZ = np.array([[8,7],[9,10],[12,11]])\n",
    "\n",
    "arrayC = np.concatenate((arrayZ, arrayX, arrayY), axis=0)\n",
    "print(arrayC)\n",
    "\n",
    "print(\"\\n\")\n",
    "\n",
    "arrayC_sort = np.sort(arrayC)\n",
    "print(arrayC_sort)\n",
    "\n",
    "# if you do not specify the axis you want to sort over, it defaults to negative 1 (last shape of the dimenstion of array)\n"
   ]
  },
  {
   "cell_type": "code",
   "execution_count": 14,
   "metadata": {},
   "outputs": [
    {
     "name": "stdout",
     "output_type": "stream",
     "text": [
      "[1 0 3 2 4]\n",
      "1\n",
      "2\n",
      "3\n",
      "4\n",
      "5\n"
     ]
    }
   ],
   "source": [
    "import numpy as np\n",
    "\n",
    "xx = np.array([2,1,4,3,5])\n",
    "\n",
    "xx_sorted = np.argsort(xx)\n",
    "\n",
    "print(xx_sorted)\n",
    "\n",
    "for index in xx_sorted:\n",
    "    print(xx[index])"
   ]
  },
  {
   "cell_type": "code",
   "execution_count": 10,
   "metadata": {},
   "outputs": [
    {
     "name": "stdout",
     "output_type": "stream",
     "text": [
      "[[101 112 133 224 235  76 207 148 319 110 338 174]]\n",
      "\n",
      "sorted\n",
      "\n",
      "[[101 112 133 224 235  76 207 148 319 110 338 174]]\n",
      "\n",
      "sorted axis 1\n",
      "\n",
      "[[ 76 101 110 112 133 148 174 207 224 235 319 338]]\n"
     ]
    }
   ],
   "source": [
    "import numpy as np\n",
    "array5 =np.array([[101, 112,133, 224, 235, 76, 207, 148, 319, 110, 338, 174]])\n",
    "print(array5)\n",
    "print(\"\\nsorted\\n\")\n",
    "print(np.sort(array5, axis=0))\n",
    "\n",
    "print(\"\\nsorted axis 1\\n\")\n",
    "print(np.sort(array5, axis=1))"
   ]
  },
  {
   "cell_type": "code",
   "execution_count": 18,
   "metadata": {},
   "outputs": [
    {
     "name": "stdout",
     "output_type": "stream",
     "text": [
      "[1 2 0]\n",
      "abraham,lincoln\n",
      "denzel,washington\n",
      "george,washington\n"
     ]
    }
   ],
   "source": [
    "first_names = (\"george\",\"abraham\", \"denzel\")\n",
    "surnames = (\"washington\", \"lincoln\", \"washington\")\n",
    "\n",
    "ind = np.lexsort((first_names, surnames))\n",
    "print(ind)\n",
    "for i in ind:\n",
    "    print(f\"{first_names[i]},{surnames[i]}\")"
   ]
  },
  {
   "cell_type": "code",
   "execution_count": 24,
   "metadata": {},
   "outputs": [
    {
     "name": "stdout",
     "output_type": "stream",
     "text": [
      "[0, 1, 2, 3]\n",
      "[4, 5, 6, 7]\n",
      "<class 'list'>\n"
     ]
    }
   ],
   "source": [
    "tt = ([[[0, 1, 2, 3], [4, 5, 6, 7] ],[ [10, 11, 12, 13], [14, 15, 16, 17] ],[[20, 21, 22, 23], [24, 25, 26, 27]]])\n",
    "\n",
    "\n",
    "a, b, c = tt\n",
    "\n",
    "# print(a)\n",
    "# print(b)\n",
    "# print(c)\n",
    "\n",
    "# print(type(c))\n",
    "\n",
    "a0, a1 = a\n",
    "print(a0)\n",
    "print(a1)\n",
    "\n",
    "print(type(a0))"
   ]
  },
  {
   "cell_type": "code",
   "execution_count": 27,
   "metadata": {},
   "outputs": [
    {
     "name": "stdout",
     "output_type": "stream",
     "text": [
      "first group : 0, 1, 2, 3\n",
      "first group : 34, 35, 36, 37\n",
      "first group : 54, 55, 56, 57\n"
     ]
    }
   ],
   "source": [
    "example = ([ [ [0, 1, 2, 3], [14, 15, 16, 17] ],[ [20, 21, 22, 23], [34, 35, 36, 37] ],[[40 ,41 ,42, 43], [54, 55, 56, 57] ] ])\n",
    "\n",
    "[[[a,b,c,d], [e,f,g,h]],[[i,j,k,l], [m,n,o,p]],[[q,r,s,t], [u,v,w,x]]] = example\n",
    "\n",
    "print(f\"first group : {a}, {b}, {c}, {d}\")\n",
    "print(f\"second group : {m}, {n}, {o}, {p}\")\n",
    "print(f\"third group : {u}, {v}, {w}, {x}\")\n",
    "\n"
   ]
  },
  {
   "cell_type": "code",
   "execution_count": 30,
   "metadata": {},
   "outputs": [
    {
     "name": "stdout",
     "output_type": "stream",
     "text": [
      "[6 7]\n"
     ]
    }
   ],
   "source": [
    "import numpy as np\n",
    "\n",
    "array2 = np.array([[1,2,3],[4,5,6],[7,8,9]])\n",
    "# print(array2)\n",
    "\n",
    "# print(array2[1:])\n",
    "\n",
    "array3 = np.array([[1,2,3,4],[5,6,7,8]])\n",
    "print(array3[1,1:3])\n",
    "\n",
    "arr = np.arrange(12, dtype=np.float_).reshape(3,4)\n",
    "print(arr)\n",
    "arr1 = np.array([6,12,15,18])\n",
    "print(f\"narr1: {arr1}\\n\")\n",
    "\n"
   ]
  },
  {
   "cell_type": "code",
   "execution_count": 35,
   "metadata": {},
   "outputs": [
    {
     "name": "stdout",
     "output_type": "stream",
     "text": [
      "\n",
      "arr1: [[ 0.  1.  2.  3.]\n",
      " [ 4.  5.  6.  7.]\n",
      " [ 8.  9. 10. 11.]]\n",
      "\n",
      "(3, 4)\n",
      "n\u0007rr1: [ 6 12 15 18]\n",
      "\n",
      "(4,)\n",
      "\n",
      "arr2: [[ 6. 13. 17. 21.]\n",
      " [10. 17. 21. 25.]\n",
      " [14. 21. 25. 29.]]\n",
      "\n",
      "narr3: [[ -6. -11. -13. -15.]\n",
      " [ -2.  -7.  -9. -11.]\n",
      " [  2.  -3.  -5.  -7.]]\n",
      "\n",
      "\n",
      "arr4: [[  0.  12.  30.  54.]\n",
      " [ 24.  60.  90. 126.]\n",
      " [ 48. 108. 150. 198.]]\n",
      "\n",
      "narr5: [[0.         0.08333333 0.13333333 0.16666667]\n",
      " [0.66666667 0.41666667 0.4        0.38888889]\n",
      " [1.33333333 0.75       0.66666667 0.61111111]]\n",
      "\n"
     ]
    }
   ],
   "source": [
    "import numpy as np\n",
    "\n",
    "arr = np.arange(12, dtype=np.float_).reshape(3,4)\n",
    "print(f\"\\narr1: {arr}\\n\")\n",
    "print(arr.shape)\n",
    "\n",
    "arr1 = np.array([6,12,15,18])\n",
    "print(f\"n\\arr1: {arr1}\\n\")\n",
    "print(arr1.shape)\n",
    "\n",
    "arr2=np.add(arr,arr1)\n",
    "print(f\"\\narr2: {arr2}\\n\")\n",
    "\n",
    "arr3= np.subtract(arr, arr1)\n",
    "print(f\"narr3: {arr3}\\n\")\n",
    "\n",
    "arr4 = np.multiply(arr,arr1)\n",
    "print(f\"\\narr4: {arr4}\\n\")\n",
    "\n",
    "arr5 = np.divide(arr, arr1)\n",
    "print(f\"narr5: {arr5}\\n\")"
   ]
  },
  {
   "cell_type": "code",
   "execution_count": 39,
   "metadata": {},
   "outputs": [
    {
     "ename": "ValueError",
     "evalue": "operands could not be broadcast together with shapes (4,) (3,3) ",
     "output_type": "error",
     "traceback": [
      "\u001b[1;31m---------------------------------------------------------------------------\u001b[0m",
      "\u001b[1;31mValueError\u001b[0m                                Traceback (most recent call last)",
      "Cell \u001b[1;32mIn[39], line 6\u001b[0m\n\u001b[0;32m      3\u001b[0m array1 \u001b[39m=\u001b[39m np\u001b[39m.\u001b[39marray([\u001b[39mFalse\u001b[39;00m,\u001b[39mFalse\u001b[39;00m,\u001b[39mTrue\u001b[39;00m,\u001b[39mFalse\u001b[39;00m])\n\u001b[0;32m      4\u001b[0m arra2 \u001b[39m=\u001b[39m np\u001b[39m.\u001b[39marray([\u001b[39mTrue\u001b[39;00m,\u001b[39mTrue\u001b[39;00m,\u001b[39mTrue\u001b[39;00m,\u001b[39mFalse\u001b[39;00m])\n\u001b[1;32m----> 6\u001b[0m \u001b[39mprint\u001b[39m(np\u001b[39m.\u001b[39;49mlogical_and(array1, array2))\n\u001b[0;32m      7\u001b[0m \u001b[39m# print(np.logical_or(array1,array2))\u001b[39;00m\n\u001b[0;32m      8\u001b[0m \u001b[39m# print(np.logical_xor(array1,array2))\u001b[39;00m\n",
      "\u001b[1;31mValueError\u001b[0m: operands could not be broadcast together with shapes (4,) (3,3) "
     ]
    }
   ],
   "source": [
    "import numpy as np\n",
    "\n",
    "array1 = np.array([False,False,True,False])\n",
    "arra2 = np.array([True,True,True,False])\n",
    "\n",
    "print(np.logical_and(array1, array2))\n",
    "print(np.logical_or(array1,array2))\n",
    "print(np.logical_xor(array1,array2))\n",
    "\n"
   ]
  },
  {
   "cell_type": "code",
   "execution_count": 44,
   "metadata": {},
   "outputs": [
    {
     "name": "stdout",
     "output_type": "stream",
     "text": [
      "[[80 95 10]\n",
      " [50 90 60]\n",
      " [30 65 70]]\n",
      "MEAN: 61.111111111111114\n",
      "MEAN (rows): [53.33333333 83.33333333 46.66666667]\n",
      "MEAN (cols): [61.66666667 66.66666667 55.        ]\n",
      "MIN: 10\n",
      "MIN (rows): [30 65 10]\n",
      "MIN (cols): [10 50 30]\n",
      "max: 95\n",
      "max (rows): [80 95 70]\n",
      "max (cols): [95 90 70]\n",
      "average: 61.111111111111114\n",
      "average (rows): [53.33333333 83.33333333 46.66666667]\n",
      "average (cols): [61.66666667 66.66666667 55.        ]\n",
      "sum: 550\n",
      "sum (rows): [160 250 140]\n",
      "sum (cols): [185 200 165]\n",
      "median: 65.0\n",
      "median (rows): [50. 90. 60.]\n",
      "median (cols): [80. 60. 65.]\n"
     ]
    }
   ],
   "source": [
    "import numpy as np\n",
    "\n",
    "a = np.array([[80,95,10],[50,90,60],[30,65,70]])\n",
    "\n",
    "print(a)\n",
    "print(f\"MEAN: {np.mean(a)}\")\n",
    "print(f\"MEAN (rows): {np.mean(a, axis=0)}\")\n",
    "print(f\"MEAN (cols): {np.mean(a, axis =1)}\")\n",
    "\n",
    "print(f\"MIN: {np.min(a)}\")\n",
    "print(f\"MIN (rows): {np.min(a, axis=0)}\")\n",
    "print(f\"MIN (cols): {np.min(a, axis=1)}\")\n",
    "\n",
    "print(f\"max: {np.max(a)}\")\n",
    "print(f\"max (rows): {np.max(a, axis=0)}\")\n",
    "print(f\"max (cols): {np.max(a, axis=1)}\")\n",
    "\n",
    "print(f\"average: {np.average(a)}\")\n",
    "print(f\"average (rows): {np.average(a, axis=0)}\")\n",
    "print(f\"average (cols): {np.average(a, axis=1)}\")\n",
    "\n",
    "print(f\"sum: {np.sum(a)}\")\n",
    "print(f\"sum (rows): {np.sum(a, axis=0)}\")\n",
    "print(f\"sum (cols): {np.sum(a, axis=1)}\")\n",
    "\n",
    "print(f\"median: {np.median(a)}\")\n",
    "print(f\"median (rows): {np.median(a, axis=0)}\")\n",
    "print(f\"median (cols): {np.median(a, axis=1)}\")"
   ]
  }
 ],
 "metadata": {
  "kernelspec": {
   "display_name": "Python 3",
   "language": "python",
   "name": "python3"
  },
  "language_info": {
   "codemirror_mode": {
    "name": "ipython",
    "version": 3
   },
   "file_extension": ".py",
   "mimetype": "text/x-python",
   "name": "python",
   "nbconvert_exporter": "python",
   "pygments_lexer": "ipython3",
   "version": "3.11.3"
  },
  "orig_nbformat": 4
 },
 "nbformat": 4,
 "nbformat_minor": 2
}
