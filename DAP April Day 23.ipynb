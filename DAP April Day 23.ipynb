{
 "cells": [
  {
   "cell_type": "code",
   "execution_count": null,
   "metadata": {},
   "outputs": [],
   "source": [
    "# gather requirements \n",
    "\n",
    "# break down the problem \n",
    "\n",
    "# pseudocode \n",
    "\n",
    "# Write a solution \n",
    "\n",
    "# Test \n",
    "\n",
    "# Consider Changes \n",
    "\n"
   ]
  },
  {
   "cell_type": "code",
   "execution_count": 15,
   "metadata": {},
   "outputs": [
    {
     "name": "stdout",
     "output_type": "stream",
     "text": [
      "Help on function anewfunction in module __main__:\n",
      "\n",
      "anewfunction(var1, var2)\n",
      "    # create a new funciton with two int parameters\n",
      "\n"
     ]
    }
   ],
   "source": [
    "# gather requirements \n",
    "\n",
    "# function\n",
    "# two integer variables\n",
    "# return sum\n",
    "# if the two integers are equal then return three thimes their sum\n",
    "\n",
    "# break down the problem \n",
    "\n",
    "#create variables\n",
    "#create the function itself \n",
    "#if else condition for the equal condition\n",
    "\n",
    "# pseudocode \n",
    "\n",
    "# create a new funciton with two int parameters\n",
    "# make sure the arguments passed are integers\n",
    "# cast variables to integers\n",
    "# create return variable\n",
    "# check to see if var1 and var2 are the same\n",
    "# if the var1 and var2 are the same then multiply the result by 3\n",
    "# if the var1 and var2 are not the same then return variable 3 \n",
    "# return the variable3 as a result\n",
    "\n",
    "# Test \n",
    "\n",
    "# Consider Changes \n",
    "\n",
    "#ways to improve programming: try except, use while, use if-else, use for loop\n",
    "#change the variable to "
   ]
  },
  {
   "cell_type": "code",
   "execution_count": 17,
   "metadata": {},
   "outputs": [
    {
     "name": "stdout",
     "output_type": "stream",
     "text": [
      "please pass integer values as an arguments\n"
     ]
    }
   ],
   "source": [
    "\n",
    "# write a function that takes in two integers and returns their sum, \n",
    "# unless the two integers are equal. \n",
    "# If the two integers are equal, \n",
    "# then return three times their sum\n",
    "\n",
    "# Examples: \n",
    "# sum2Integers(10,20)// --> 30\n",
    "# sum2integers(10,10) --> 60\n",
    "\n",
    "\n",
    "# create a new funciton with two int parameters\n",
    "def anewfunction(var1, var2):\n",
    "    try:\n",
    "#make sure the arguments passed are integers\n",
    "#cast variables to integers\n",
    "#create a return variable\n",
    "        var1 = int(var1)\n",
    "        var2 = int(var2)\n",
    "        var3 = None\n",
    "#check to see if var1 and var2 are the same\n",
    "        if var1 == var2:\n",
    "#if the var1 and var2 are the same then multiply the result by 3\n",
    "            var3 = 3*(var1+var2)\n",
    "        else:\n",
    "#if the var1 and var2 are not the same then return variable 3 \n",
    "            var3 = var1 +var2\n",
    "        return var3\n",
    "    except:\n",
    "        print(\"please pass integer values as arguments\")\n",
    "\n",
    "anewfunction(1,2)"
   ]
  },
  {
   "cell_type": "code",
   "execution_count": null,
   "metadata": {},
   "outputs": [],
   "source": [
    "# gather requirements:\n",
    "\n",
    "#shoudl we take user input or should the user pass input as an argument?\n",
    "#how many input should we have?\n",
    "\n",
    "# break down the problem: \n",
    "\n",
    "# which number is the highest number\n",
    "\n",
    "# pseudocode:\n",
    "\n",
    "# take three variables as input\n",
    "# define the function\n",
    "# this function takes three integers\n",
    "# take the condition which value is the highest\n",
    "# first condition checks to see if a is the highest value\n",
    "# second condition checks to see if b is the highest value\n",
    "# third condition checks to see if c is the highest value\n",
    "# print(results)\n",
    "# return the biggest variable\n",
    "\n",
    "# Write a solution:\n",
    "\n",
    "# Test:\n",
    "\n",
    "# Consider Changes: \n",
    "# exception handling\n",
    "#  \n",
    "\n"
   ]
  },
  {
   "cell_type": "code",
   "execution_count": 46,
   "metadata": {},
   "outputs": [
    {
     "name": "stdout",
     "output_type": "stream",
     "text": [
      "34\n"
     ]
    }
   ],
   "source": [
    "# Question 2\n",
    "# Write a function that takes in integers and returns the integer with the highest value. (Do NOT use Math.max()!!!)\n",
    "# Example: findHighest(5, 8, 1) // --> 8 findHighest([4, 1, -3]) // --> 4 Take note of the argument data type options.\n",
    "\n",
    "# ulist = []\n",
    "# while True:\n",
    "#     uinput1 = input(\"please enter a number of integers to input followed by 'enter'\")\n",
    "#     if uinput1 == 'enter':\n",
    "#         break\n",
    "#     else:\n",
    "#         ulist.append(uinput1)\n",
    "\n",
    "# listlen = len(ulist)\n",
    "# print(listlen)\n",
    "\n",
    "def function1(*args):\n",
    "    numberlist = list(args)\n",
    "    numberlist.sort()\n",
    "    print(numberlist[-1])\n",
    "\n",
    "function1(1,2,34,5)\n",
    "\n",
    "# def highestValue():\n",
    "#     for "
   ]
  },
  {
   "cell_type": "code",
   "execution_count": null,
   "metadata": {},
   "outputs": [],
   "source": [
    "# gather requirements \n",
    "\n",
    "#are we allowed to use numpy\n",
    "\n",
    "# break down the problem \n",
    "\n",
    "# pseudocode \n",
    "\n",
    "# Write a solution \n",
    "\n",
    "# Test \n",
    "\n",
    "# Consider Changes \n"
   ]
  },
  {
   "cell_type": "code",
   "execution_count": 47,
   "metadata": {},
   "outputs": [
    {
     "name": "stdout",
     "output_type": "stream",
     "text": [
      "9 is greater than five!\n"
     ]
    }
   ],
   "source": [
    "# Question 3\n",
    "# Write a function that generates a random number between 0-10.\n",
    "\n",
    "# If the number is greater than 5, \n",
    "# print \"{number} is greater than five!\".\n",
    "# If it is less than 5, \n",
    "# print \"{number} is less than five!\"\n",
    "\n",
    "# Examples: isFive()\n",
    "\n",
    "import random as rand\n",
    "\n",
    "def randomnum():\n",
    "    # ran = rand.random()\n",
    "    # wholenum = ran * 10\n",
    "    # intnum = int(wholenum)\n",
    "\n",
    "    intnum = rand.randint(1,10)\n",
    "\n",
    "    if intnum >= 5:\n",
    "        print(f\"{intnum} is greater than five!\")\n",
    "    else:\n",
    "        print(f\"{intnum} is less than five!\")\n",
    "\n",
    "randomnum()\n"
   ]
  },
  {
   "cell_type": "code",
   "execution_count": 64,
   "metadata": {},
   "outputs": [
    {
     "data": {
      "text/plain": [
       "0"
      ]
     },
     "execution_count": 64,
     "metadata": {},
     "output_type": "execute_result"
    }
   ],
   "source": [
    "# Question 4\n",
    "# Write a function that counts the number of vowels in a string.\n",
    "# The vowels are \"a\", \"e\", \"i\", \"o\" & \"u\"\n",
    "# Examples: countVowels('hello') // --> 2 countVowels('why') // --> 0\n",
    "\n",
    "\n",
    "\n",
    "def countVow(var):\n",
    "    count = 0\n",
    "    vowels = ['aeiouAEIOU']\n",
    "    for char in vowels:\n",
    "        if char == vowels:\n",
    "            count = count + 1\n",
    "        else:\n",
    "            continue\n",
    "    return count\n",
    "\n",
    "\n",
    "\n",
    "countVow('hello')\n"
   ]
  },
  {
   "cell_type": "code",
   "execution_count": 75,
   "metadata": {},
   "outputs": [
    {
     "name": "stdout",
     "output_type": "stream",
     "text": [
      "True\n"
     ]
    }
   ],
   "source": [
    "# Question 5\n",
    "# Write a function that determines if a string is a palindrome.\n",
    "\n",
    "# A palindrome is a string that is the same forward and backwards.\n",
    "\n",
    "# Examples: isPalindrome('racecar') // --> true isPalindrome('table') // --> false\n",
    "\n",
    "\n",
    "\n",
    "def isPali(var):\n",
    "    if var[0:] == var[::-1]:\n",
    "        print(True)\n",
    "    else:\n",
    "        print(\"False\")\n",
    "\n",
    "isPali('aeoea')\n",
    "\n"
   ]
  }
 ],
 "metadata": {
  "kernelspec": {
   "display_name": "Python 3",
   "language": "python",
   "name": "python3"
  },
  "language_info": {
   "codemirror_mode": {
    "name": "ipython",
    "version": 3
   },
   "file_extension": ".py",
   "mimetype": "text/x-python",
   "name": "python",
   "nbconvert_exporter": "python",
   "pygments_lexer": "ipython3",
   "version": "3.11.3"
  },
  "orig_nbformat": 4
 },
 "nbformat": 4,
 "nbformat_minor": 2
}
