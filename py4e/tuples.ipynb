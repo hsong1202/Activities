{
 "cells": [
  {
   "cell_type": "code",
   "execution_count": 15,
   "metadata": {},
   "outputs": [
    {
     "name": "stdout",
     "output_type": "stream",
     "text": [
      "('l', 'u', 'p', 'i', 'n', 's')\n",
      "a\n",
      "('b', 'c')\n",
      "('A', 'b', 'c', 'd', 'e')\n"
     ]
    },
    {
     "data": {
      "text/plain": [
       "tuple"
      ]
     },
     "execution_count": 15,
     "metadata": {},
     "output_type": "execute_result"
    }
   ],
   "source": [
    "# t1 = ('a',)\n",
    "# type(t1)\n",
    "\n",
    "# t2 = ('a')\n",
    "# type(t2)\n",
    "\n",
    "# t = tuple('lupins')\n",
    "# print(t)\n",
    "\n",
    "# t = ('a', 'b', 'c', 'd', 'e')\n",
    "# type(t)\n",
    "# print(t[0])\n",
    "\n",
    "# print(t[1:3])\n",
    "\n",
    "# # tuples cannot modify a value\n",
    "# # t[0] = 'A'\n",
    "\n",
    "\n",
    "# #You can’t modify the elements of a tuple, but you can replace one tuple with another:\n",
    "# t = ('A',) + t[1:]\n",
    "# print(t)\n",
    "\n",
    "# a = (0, 1, 2)\n",
    "# b=  (0, 3, 4)\n",
    "\n",
    "# a < b\n",
    "\n",
    "# type(a)\n",
    "# type(b)"
   ]
  },
  {
   "cell_type": "code",
   "execution_count": 40,
   "metadata": {},
   "outputs": [
    {
     "name": "stdout",
     "output_type": "stream",
     "text": [
      "[(3, 'but'), (4, 'soft'), (4, 'what'), (5, 'light'), (2, 'in'), (6, 'yonder'), (6, 'window'), (6, 'breaks')]\n",
      "[(2, 'in'), (3, 'but'), (4, 'soft'), (4, 'what'), (5, 'light'), (6, 'breaks'), (6, 'window'), (6, 'yonder')]\n",
      "[(6, 'yonder'), (6, 'window'), (6, 'breaks'), (5, 'light'), (4, 'what'), (4, 'soft'), (3, 'but'), (2, 'in')]\n"
     ]
    }
   ],
   "source": [
    "txt = 'but soft what light in yonder window breaks'\n",
    "words = txt.split()\n",
    "t = list()\n",
    "\n",
    "for word in words:\n",
    "    t.append((len(word), word))\n",
    "print(t)\n",
    "\n",
    "t.sort()\n",
    "print(t)\n",
    "\n",
    "\n",
    "t.sort(reverse=True)\n",
    "\n",
    "print(t)\n",
    "\n",
    "# res = list()\n",
    "# for length, word in t:\n",
    "#     # print(length)\n",
    "#     # print(word)\n",
    "#     res.append(word)\n",
    "\n",
    "# print(res)"
   ]
  },
  {
   "cell_type": "code",
   "execution_count": 50,
   "metadata": {},
   "outputs": [
    {
     "name": "stdout",
     "output_type": "stream",
     "text": [
      "(1, 2, 3, 4, 5, 6, 7, 8, 9, 0)\n",
      "('a', 'b', 'c', 'd', 'e', 'f', 'g', 'h', 'i', 'j', 'k', 'l', 'm', 'n', 'o', 'p', 'q', 'r', 's', 't', 'u', 'v', 'w', 'x', 'y', 'z')\n",
      "('A', 'B', 'C', 'D', 'E', 'F', 'G', 'H', 'I', 'J', 'K', 'L', 'M', 'N', 'O', 'P', 'Q', 'R', 'S', 'T', 'U', 'V', 'W', 'X', 'Y', 'Z')\n"
     ]
    },
    {
     "ename": "TypeError",
     "evalue": "'>' not supported between instances of 'int' and 'str'",
     "output_type": "error",
     "traceback": [
      "\u001b[1;31m---------------------------------------------------------------------------\u001b[0m",
      "\u001b[1;31mTypeError\u001b[0m                                 Traceback (most recent call last)",
      "Cell \u001b[1;32mIn[50], line 10\u001b[0m\n\u001b[0;32m      7\u001b[0m \u001b[39mprint\u001b[39m(cap)\n\u001b[0;32m      9\u001b[0m alpha \u001b[39m>\u001b[39m cap\n\u001b[1;32m---> 10\u001b[0m num \u001b[39m>\u001b[39;49m alpha\n\u001b[0;32m     11\u001b[0m num \u001b[39m>\u001b[39m cap\n",
      "\u001b[1;31mTypeError\u001b[0m: '>' not supported between instances of 'int' and 'str'"
     ]
    }
   ],
   "source": [
    "#alphabetical orders\n",
    "\n",
    "alpha = tuple('abcdefghijklmnopqrstuvwxyz')\n",
    "cap = tuple('ABCDEFGHIJKLMNOPQRSTUVWXYZ')\n",
    "\n",
    "print(alpha)\n",
    "print(cap)\n",
    "\n",
    "alpha > cap\n",
    "\n",
    "num = (1,2,3,4,5,6,7,8,9,0)\n",
    "print(num)\n",
    "num > alpha\n"
   ]
  },
  {
   "cell_type": "code",
   "execution_count": 60,
   "metadata": {},
   "outputs": [
    {
     "name": "stdout",
     "output_type": "stream",
     "text": [
      "['have', 'fun']\n",
      "have\n",
      "fun\n",
      "('have', 'fun')\n",
      "<class 'list'>\n",
      "<class 'str'>\n",
      "<class 'str'>\n",
      "<class 'tuple'>\n"
     ]
    }
   ],
   "source": [
    "m = [ 'have', 'fun' ]\n",
    "x, y = m\n",
    "# x = m[0]\n",
    "# y = m[1]\n",
    "i = x, y\n",
    "\n",
    "print(m)\n",
    "print(x)\n",
    "print(y)\n",
    "print(i)\n",
    "\n",
    "\n",
    "print(type(m))\n",
    "print(type(x))\n",
    "print(type(y))\n",
    "print(type(i))"
   ]
  },
  {
   "cell_type": "code",
   "execution_count": 44,
   "metadata": {},
   "outputs": [
    {
     "name": "stdout",
     "output_type": "stream",
     "text": [
      "monty@python.org\n",
      "monty\n",
      "<class 'str'>\n",
      "python.org\n",
      "<class 'str'>\n",
      "('monty', 'python.org')\n",
      "<class 'tuple'>\n"
     ]
    }
   ],
   "source": [
    "addr = 'monty@python.org'\n",
    "#assign each word in the list to variables\n",
    "x, y   = addr.split('@')\n",
    "# assign variables to a tuple\n",
    "z = x,y\n",
    "\n",
    "print(addr)\n",
    "print(x)\n",
    "print(type(x))\n",
    "print(y)\n",
    "print(type(y))\n",
    "print(z)\n",
    "print(type(z))"
   ]
  },
  {
   "cell_type": "code",
   "execution_count": null,
   "metadata": {},
   "outputs": [],
   "source": [
    "a, b = ('c','d'),('e','f')\n",
    "g = a, b\n",
    "\n",
    "print(a)\n",
    "print(b)\n",
    "print(g)\n",
    "\n",
    "print(type(a))\n",
    "print(type(b))\n",
    "print(type(g))"
   ]
  },
  {
   "cell_type": "code",
   "execution_count": 85,
   "metadata": {},
   "outputs": [
    {
     "name": "stdout",
     "output_type": "stream",
     "text": [
      "{'a': 10, 'b': 1, 'c': 22}\n",
      "dict_items([('a', 10), ('b', 1), ('c', 22)])\n",
      "<class 'dict_items'>\n",
      "[('a', 10), ('b', 1), ('c', 22)]\n",
      "<class 'list'>\n",
      "[('c', 22), ('b', 1), ('a', 10)]\n"
     ]
    },
    {
     "data": {
      "text/plain": [
       "[(22, 'c'), (10, 'a'), (1, 'b')]"
      ]
     },
     "execution_count": 85,
     "metadata": {},
     "output_type": "execute_result"
    }
   ],
   "source": [
    "#how to sor by key\n",
    "d = {'a':10, 'b':1, 'c':22}\n",
    "\n",
    "t = d.items()\n",
    "x = d.items()\n",
    "print(d)\n",
    "# print(type(d))\n",
    "# items method returns the dictionary's key-value pairs in a list of tuples\n",
    "print(t)\n",
    "\n",
    "print(type(t))\n",
    "\n",
    "t = list(t)\n",
    "\n",
    "print(t)\n",
    "\n",
    "print(type(t))\n",
    "#sort by key\n",
    "t.sort(reverse=True)\n",
    "\n",
    "print(t)\n"
   ]
  },
  {
   "cell_type": "code",
   "execution_count": 86,
   "metadata": {},
   "outputs": [
    {
     "name": "stdout",
     "output_type": "stream",
     "text": [
      "{'a': 10, 'b': 1, 'c': 22}\n",
      "<class 'dict'>\n"
     ]
    },
    {
     "data": {
      "text/plain": [
       "[(22, 'c'), (10, 'a'), (1, 'b')]"
      ]
     },
     "execution_count": 86,
     "metadata": {},
     "output_type": "execute_result"
    }
   ],
   "source": [
    "#how to sor by key\n",
    "d = {'a':10, 'b':1, 'c':22}\n",
    "\n",
    "x = d.items()\n",
    "\n",
    "print(d)\n",
    "print(type(d))\n",
    "\n",
    "#loop through key value and append to a new list in value key order \n",
    "\n",
    "# create a newlist\n",
    "newlist = []\n",
    "\n",
    "#for every key and value in dictionary item's tuple, assign it to a new list \n",
    "\n",
    "for key, val in x:\n",
    "    newlist.append((val, key))\n",
    "\n",
    "#sort the newlist by value instead of key\n",
    "newlist.sort(reverse=True)\n",
    "\n",
    "#print key\n",
    "newlist"
   ]
  },
  {
   "cell_type": "code",
   "execution_count": 96,
   "metadata": {},
   "outputs": [
    {
     "name": "stdout",
     "output_type": "stream",
     "text": [
      "[(3, 'the'), (3, 'is'), (3, 'and'), (2, 'sun'), (1, 'yonder'), (1, 'with'), (1, 'window'), (1, 'who'), (1, 'what'), (1, 'through'), (1, 'soft'), (1, 'sick'), (1, 'pale'), (1, 'moon'), (1, 'light'), (1, 'kill'), (1, 'juliet'), (1, 'it'), (1, 'grief'), (1, 'fair'), (1, 'envious'), (1, 'east'), (1, 'but'), (1, 'breaks'), (1, 'arise'), (1, 'already')]\n",
      "3 the\n",
      "3 is\n",
      "3 and\n",
      "2 sun\n",
      "1 yonder\n",
      "1 with\n",
      "1 window\n",
      "1 who\n",
      "1 what\n",
      "1 through\n",
      "1 soft\n",
      "1 sick\n",
      "1 pale\n",
      "1 moon\n",
      "1 light\n",
      "1 kill\n",
      "1 juliet\n",
      "1 it\n",
      "1 grief\n",
      "1 fair\n",
      "1 envious\n",
      "1 east\n",
      "1 but\n",
      "1 breaks\n",
      "1 arise\n",
      "1 already\n"
     ]
    }
   ],
   "source": [
    "import string\n",
    "fhand = open('./files/romeo.txt')\n",
    "counts = dict()\n",
    "for line in fhand:\n",
    "    line = line.translate(str.maketrans('', '', string.punctuation))\n",
    "    line = line.lower()\n",
    "    words = line.split()\n",
    "    for word in words:\n",
    "        if word not in counts:\n",
    "            counts[word] = 1\n",
    "        else:\n",
    "            counts[word] += 1\n",
    "\n",
    "# Sort the dictionary by value\n",
    "lst = list()\n",
    "for key, val in list(counts.items()):\n",
    "    lst.append((val, key))\n",
    "\n",
    "lst.sort(reverse=True)\n",
    "\n",
    "\n",
    "print(lst[:100])\n",
    "\n",
    "for key, val in lst[:100]:\n",
    "    print(key, val)\n"
   ]
  },
  {
   "cell_type": "code",
   "execution_count": 2,
   "metadata": {},
   "outputs": [
    {
     "name": "stdout",
     "output_type": "stream",
     "text": [
      "119\n",
      "119\n"
     ]
    }
   ],
   "source": [
    "#looping through elements in a list\n",
    "list_of_ints_in_strings = ['42', '65', '12']\n",
    "list_of_ints = []\n",
    "for x in list_of_ints_in_strings:\n",
    "    list_of_ints.append(int(x))\n",
    "\n",
    "print(sum(list_of_ints))\n",
    "\n",
    "#list comprehension\n",
    "list_of_ints_in_strings = ['42', '65', '12']\n",
    "list_of_ints = [ int(x) for x in list_of_ints_in_strings ]\n",
    "print(sum(list_of_ints))"
   ]
  }
 ],
 "metadata": {
  "kernelspec": {
   "display_name": "Python 3",
   "language": "python",
   "name": "python3"
  },
  "language_info": {
   "codemirror_mode": {
    "name": "ipython",
    "version": 3
   },
   "file_extension": ".py",
   "mimetype": "text/x-python",
   "name": "python",
   "nbconvert_exporter": "python",
   "pygments_lexer": "ipython3",
   "version": "3.11.3"
  },
  "orig_nbformat": 4
 },
 "nbformat": 4,
 "nbformat_minor": 2
}
