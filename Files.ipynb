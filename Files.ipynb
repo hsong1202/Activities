{
 "cells": [
  {
   "cell_type": "code",
   "execution_count": 60,
   "metadata": {},
   "outputs": [
    {
     "name": "stdout",
     "output_type": "stream",
     "text": [
      "<class '_io.TextIOWrapper'>\n"
     ]
    }
   ],
   "source": [
    "# newfile = open(\"mbox-short.txt\")\n",
    "# print(type(newfile))\n",
    "\n",
    "# help(open)\n",
    "\n",
    "# count = 0\n",
    "# for line in newfile:\n",
    "#     count = count +1\n",
    "# print('Line Count: ', count)\n",
    "\n",
    "# print(newfile)\n",
    "\n",
    "# readfile = newfile.read()\n",
    "# # help(newfile.read)\n",
    "# print(len(readfile))\n",
    "# print(readfile)\n",
    "\n",
    "# for line in newfile:\n",
    "#     line = line.rstrip()\n",
    "#     if not line.startswith('From:'):\n",
    "#         continue\n",
    "#     print(line)\n",
    "\n",
    "# help(line.rstrip)\n",
    "\n",
    "# for line in newfile:\n",
    "#     line = line.rstrip()\n",
    "#     if line.find('uct.ac.za') == -1:\n",
    "#         continue\n",
    "#     print(line)\n",
    "\n"
   ]
  },
  {
   "cell_type": "code",
   "execution_count": 90,
   "metadata": {},
   "outputs": [
    {
     "name": "stdout",
     "output_type": "stream",
     "text": [
      "<class 'str'>\n"
     ]
    },
    {
     "data": {
      "text/plain": [
       "392"
      ]
     },
     "execution_count": 90,
     "metadata": {},
     "output_type": "execute_result"
    }
   ],
   "source": [
    "# ofile = open(\"data copy.txt\",'w')\n",
    "\n",
    "# # print(type(newfile))\n",
    "\n",
    "# # writeline = \"newline,\\n\"\n",
    "\n",
    "\n",
    "# for line in range(1,101):\n",
    "# #initalize new variable to write\n",
    "#     writeline = f\"{line},\\n\"\n",
    "# #insert new string to the output file \n",
    "#     ofile.write(writeline)\n",
    "# ofile.close()\n",
    "\n",
    "newfile = open(\"data copy.txt\", 'r')\n",
    "readfile = newfile.read()\n",
    "\n",
    "\n",
    "\n",
    "print(type(readfile))\n",
    "len(readfile)\n",
    "# newlist = []\n",
    "# for line in readfile:\n",
    "#     line = line.rstrip()\n",
    "#     newlist.append(line)\n",
    "\n",
    "# print(len(newlist))\n",
    "# print(newlist)\n"
   ]
  }
 ],
 "metadata": {
  "kernelspec": {
   "display_name": "Python 3",
   "language": "python",
   "name": "python3"
  },
  "language_info": {
   "codemirror_mode": {
    "name": "ipython",
    "version": 3
   },
   "file_extension": ".py",
   "mimetype": "text/x-python",
   "name": "python",
   "nbconvert_exporter": "python",
   "pygments_lexer": "ipython3",
   "version": "3.11.3"
  },
  "orig_nbformat": 4
 },
 "nbformat": 4,
 "nbformat_minor": 2
}
