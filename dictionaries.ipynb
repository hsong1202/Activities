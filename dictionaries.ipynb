{
 "cells": [
  {
   "cell_type": "code",
   "execution_count": 47,
   "metadata": {},
   "outputs": [
    {
     "name": "stdout",
     "output_type": "stream",
     "text": [
      "{}\n",
      "{'one': 'uno'}\n",
      "{'one': 'uno', 'two': 'dos', 'three': 'tres'}\n",
      "uno\n",
      "\n",
      "\n",
      "<class 'dict_values'>\n",
      "values in dictionary method values() prior to converrting to list dict_values(['uno', 'dos', 'tres'])\n",
      "\n",
      "\n",
      "<class 'list'>\n",
      "values in dictionary method values() post to converrting to list ['uno', 'dos', 'tres']\n",
      "['uno', 'dos', 'tres']\n",
      "tres\n",
      "True\n"
     ]
    }
   ],
   "source": [
    "mydict = {}\n",
    "print(mydict)\n",
    "\n",
    "mydict['one'] = 'uno'\n",
    "print(mydict)\n",
    "\n",
    "len(mydict)\n",
    "type(mydict)\n",
    "\n",
    "mydict = {'one':'uno', 'two':'dos','three':'tres'}\n",
    "print(mydict)\n",
    "len(mydict)\n",
    "\n",
    "print(mydict['one'])\n",
    "\n",
    "'one' in mydict\n",
    "'uno' in mydict\n",
    "\n",
    "print(\"\\n\")\n",
    "\n",
    "\n",
    "vals = [] \n",
    "\n",
    "vals = mydict.values()\n",
    "\n",
    "print(type(vals))\n",
    "print(\"values in dictionary method values() prior to converrting to list\",vals)\n",
    "print(\"\\n\")\n",
    "\n",
    "vals = list(vals)\n",
    "print(type(vals))\n",
    "print(\"values in dictionary method values() post to converrting to list\",vals)\n",
    "\n",
    "print(vals)\n",
    "\n",
    "print(vals[2])\n",
    "\n",
    "print('uno' in vals)\n",
    "\n"
   ]
  },
  {
   "cell_type": "code",
   "execution_count": 82,
   "metadata": {},
   "outputs": [
    {
     "name": "stdout",
     "output_type": "stream",
     "text": [
      "Writing\n",
      "programs\n",
      "or\n",
      "programming\n",
      "is\n",
      "a\n",
      "very\n",
      "creative\n",
      "and\n",
      "rewarding\n",
      "activity\n",
      "You\n",
      "can\n",
      "write\n",
      "for\n",
      "many\n",
      "reasons\n",
      "ranging\n",
      "from\n",
      "making\n",
      "your\n",
      "living\n",
      "to\n",
      "solving\n",
      "difficult\n",
      "data\n",
      "analysis\n",
      "problem\n",
      "having\n",
      "fun\n",
      "helping\n",
      "someone\n",
      "else\n",
      "solve\n",
      "This\n",
      "book\n",
      "assumes\n",
      "that\n",
      "{\\em\n",
      "everyone}\n",
      "needs\n",
      "know\n",
      "how\n",
      "program\n",
      "once\n",
      "you\n",
      "program,\n",
      "will\n",
      "figure\n",
      "out\n",
      "what\n",
      "want\n",
      "do\n",
      "with\n",
      "newfound\n",
      "skills\n",
      "We\n",
      "are\n",
      "surrounded\n",
      "in\n",
      "our\n",
      "daily\n",
      "lives\n",
      "computers\n",
      "laptops\n",
      "cell\n",
      "phones\n",
      "think\n",
      "of\n",
      "these\n",
      "as\n",
      "personal\n",
      "assistants\n",
      "who\n",
      "take\n",
      "care\n",
      "things\n",
      "on\n",
      "behalf\n",
      "The\n",
      "hardware\n",
      "current-day\n",
      "essentially\n",
      "built\n",
      "continuously\n",
      "ask\n",
      "us\n",
      "the\n",
      "question\n",
      "What\n",
      "would\n",
      "like\n",
      "me\n",
      "next\n",
      "Our\n",
      "fast\n",
      "have\n",
      "vasts\n",
      "amounts\n",
      "memory\n",
      "could\n",
      "be\n",
      "helpful\n",
      "if\n",
      "we\n",
      "only\n",
      "knew\n",
      "language\n",
      "speak\n",
      "explain\n",
      "computer\n",
      "it\n",
      "If\n",
      "this\n",
      "tell\n",
      "tasks\n",
      "were\n",
      "reptitive\n",
      "Interestingly,\n",
      "kinds\n",
      "best\n",
      "often\n",
      "humans\n",
      "find\n",
      "boring\n",
      "mind-numbing\n"
     ]
    },
    {
     "data": {
      "text/plain": [
       "126"
      ]
     },
     "execution_count": 82,
     "metadata": {},
     "output_type": "execute_result"
    }
   ],
   "source": [
    "# Write a program that reads the words in words.txt and stores them as keys in a dictionary. It doesn’t matter what the values are. Then you can use the in operator as a fast way to check whether a string is in the dictionary.\n",
    "\n",
    "newfile = open(\"./words.txt\", 'r')\n",
    "\n",
    "readfile = newfile.read()\n",
    "\n",
    "newlist = readfile.split()\n",
    "newdict = {}\n",
    "# print(len(newlist))\n",
    "for word in newlist:\n",
    "    newdict[word] = \"\" \n",
    "    # print(word)\n",
    "    # newdict.update([])\n",
    "    # print(newdict)\n",
    "\n",
    "for word in newdict:\n",
    "    print(word)\n",
    "len(newdict)\n",
    "# dir(dict)\n",
    "# help(dict.update)"
   ]
  },
  {
   "cell_type": "code",
   "execution_count": 85,
   "metadata": {},
   "outputs": [
    {
     "name": "stdout",
     "output_type": "stream",
     "text": [
      "100\n",
      "0\n",
      "{'b': 1, 'r': 2, 'o': 2, 'n': 1, 't': 1, 's': 2, 'a': 1, 'u': 2}\n"
     ]
    }
   ],
   "source": [
    "# word = 'brontosaurus'\n",
    "# d = dict()\n",
    "# for c in word:\n",
    "#     if c not in d:\n",
    "#         d[c] = 1\n",
    "#     else:\n",
    "#         d[c] = d[c] + 1\n",
    "# print(d)\n",
    "\n",
    "counts = { 'chuck' : 1 , 'annie' : 42, 'jan': 100}\n",
    "print(counts.get('jan', 0))\n",
    "print(counts.get('tim', 0))\n",
    "\n",
    "word = 'brontosaurus'\n",
    "d = dict()\n",
    "for c in word:\n",
    "    d[c] = d.get(c,0) + 1\n",
    "print(d)\n"
   ]
  },
  {
   "cell_type": "code",
   "execution_count": 86,
   "metadata": {},
   "outputs": [
    {
     "name": "stdout",
     "output_type": "stream",
     "text": [
      "{'But': 1, 'soft': 1, 'what': 1, 'light': 1, 'through': 1, 'yonder': 1, 'window': 1, 'breaks': 1, 'It': 1, 'is': 3, 'the': 3, 'east': 1, 'and': 3, 'Juliet': 1, 'sun': 2, 'Arise': 1, 'fair': 1, 'kill': 1, 'envious': 1, 'moon': 1, 'Who': 1, 'already': 1, 'sick': 1, 'pale': 1, 'with': 1, 'grief': 1}\n"
     ]
    }
   ],
   "source": [
    "newfile = input('Enter the file name: ')\n",
    "try:\n",
    "    newfile = open(newfile)\n",
    "except:\n",
    "    print('File cannot be opened:', newfile)\n",
    "    exit()\n",
    "\n",
    "counts = dict()\n",
    "for line in newfile:\n",
    "    words = line.split()\n",
    "    for word in words:\n",
    "        if word not in counts:\n",
    "            counts[word] = 1\n",
    "        else:\n",
    "            counts[word] += 1\n",
    "\n",
    "print(counts)"
   ]
  },
  {
   "cell_type": "code",
   "execution_count": 1,
   "metadata": {},
   "outputs": [
    {
     "name": "stdout",
     "output_type": "stream",
     "text": [
      "chuck 1\n",
      "annie 42\n",
      "jan 100\n",
      "annie 42\n",
      "jan 100\n",
      "['chuck', 'annie', 'jan']\n",
      "['annie', 'chuck', 'jan']\n",
      "annie 42\n",
      "chuck 1\n",
      "jan 100\n"
     ]
    }
   ],
   "source": [
    "counts = { 'chuck' : 1 , 'annie' : 42, 'jan': 100}\n",
    "for key in counts:\n",
    "    print(key, counts[key])\n",
    "    \n",
    "counts = { 'chuck' : 1 , 'annie' : 42, 'jan': 100}\n",
    "for key in counts:\n",
    "    if counts[key] > 10 :\n",
    "        print(key, counts[key])\n",
    "\n",
    "\n",
    "counts = { 'chuck' : 1 , 'annie' : 42, 'jan': 100}\n",
    "lst = list(counts.keys())\n",
    "print(lst)\n",
    "lst.sort()\n",
    "print(lst)\n",
    "\n",
    "for key in lst:\n",
    "    print(key, counts[key])"
   ]
  },
  {
   "cell_type": "code",
   "execution_count": 47,
   "metadata": {},
   "outputs": [
    {
     "data": {
      "text/plain": [
       "1"
      ]
     },
     "execution_count": 47,
     "metadata": {},
     "output_type": "execute_result"
    }
   ],
   "source": [
    "# help(str.translate)\n",
    "\n",
    "import string as str\n",
    "punct = str.punctuation\n",
    "\n",
    "# for char in str.punctuation:\n",
    "    # print(char)\n",
    "counter = 0\n",
    "plst = []\n",
    "pdict = {}\n",
    "for char in punct:\n",
    "    plst.append(char)\n",
    "# print(plst)\n",
    "\n",
    "# print(len(plst))\n",
    "\n",
    "for item in plst:\n",
    "    pdict = {counter : item}\n",
    "    # print(pdict)\n",
    "    counter = counter +1\n",
    "    # print(counter)\n",
    "\n",
    "\n",
    "\n"
   ]
  },
  {
   "cell_type": "code",
   "execution_count": 2,
   "metadata": {},
   "outputs": [
    {
     "ename": "NameError",
     "evalue": "name 'info' is not defined",
     "output_type": "error",
     "traceback": [
      "\u001b[1;31m---------------------------------------------------------------------------\u001b[0m",
      "\u001b[1;31mNameError\u001b[0m                                 Traceback (most recent call last)",
      "Cell \u001b[1;32mIn[2], line 29\u001b[0m\n\u001b[0;32m      1\u001b[0m \u001b[39m# import string\u001b[39;00m\n\u001b[0;32m      2\u001b[0m \n\u001b[0;32m      3\u001b[0m \u001b[39m# fname = input('Enter the file name: ')\u001b[39;00m\n\u001b[1;32m   (...)\u001b[0m\n\u001b[0;32m     26\u001b[0m \u001b[39m# #print counts\u001b[39;00m\n\u001b[0;32m     27\u001b[0m \u001b[39m# print(counts)\u001b[39;00m\n\u001b[1;32m---> 29\u001b[0m help(info())\n",
      "\u001b[1;31mNameError\u001b[0m: name 'info' is not defined"
     ]
    }
   ],
   "source": [
    "# import string\n",
    "\n",
    "# fname = input('Enter the file name: ')\n",
    "# try:\n",
    "#     fhand = open(fname)\n",
    "# except:\n",
    "#     print('File cannot be opened:', fname)\n",
    "#     exit()\n",
    "\n",
    "# counts = dict()\n",
    "# for line in fhand:\n",
    "#     # remove /n at the end\n",
    "#     line = line.rstrip()\n",
    "#     #remove puncutation\n",
    "#     line = line.translate(line.maketrans('', '', string.punctuation))\n",
    "#     #remove capitalization\n",
    "#     line = line.lower()\n",
    "#     #split stream into list of words\n",
    "#     words = line.split()\n",
    "#     #initalize list into dictionary\n",
    "#     for word in words:\n",
    "#         if word not in counts:\n",
    "#             counts[word] = 1\n",
    "#         else:\n",
    "#             counts[word] += 1\n",
    "# #print counts\n",
    "# print(counts)\n",
    "\n"
   ]
  },
  {
   "cell_type": "code",
   "execution_count": null,
   "metadata": {},
   "outputs": [],
   "source": [
    "# Exercise 2: Write a program that categorizes each mail message by which day of the week the commit was done. \n",
    "# To do this look for lines that start with “From”, \n",
    "# then look for the third word and keep a running count of each of the days of the week. \n",
    "# At the end of the program print out the contents of your dictionary (order does not matter).\n"
   ]
  },
  {
   "cell_type": "code",
   "execution_count": null,
   "metadata": {},
   "outputs": [],
   "source": [
    "\n",
    "# Exercise 3: Write a program to read through a mail log, build a histogram using a dictionary to count how many messages have come from each email address, and print the dictionary.\n"
   ]
  },
  {
   "cell_type": "code",
   "execution_count": null,
   "metadata": {},
   "outputs": [],
   "source": [
    "\n",
    "# Exercise 4: Add code to the above program to figure out who has the most messages in the file. After all the data has been read and the dictionary has been created, look through the dictionary using a maximum loop (see Chapter 5: Maximum and minimum loops) to find who has the most messages and print how many messages the person has.\n"
   ]
  },
  {
   "cell_type": "code",
   "execution_count": null,
   "metadata": {},
   "outputs": [],
   "source": [
    "\n",
    "# Exercise 5: This program records the domain name (instead of the address) where the message was sent from instead of who the mail came from (i.e., the whole email address). At the end of the program, print out the contents of your dictionary."
   ]
  }
 ],
 "metadata": {
  "kernelspec": {
   "display_name": "Python 3",
   "language": "python",
   "name": "python3"
  },
  "language_info": {
   "codemirror_mode": {
    "name": "ipython",
    "version": 3
   },
   "file_extension": ".py",
   "mimetype": "text/x-python",
   "name": "python",
   "nbconvert_exporter": "python",
   "pygments_lexer": "ipython3",
   "version": "3.11.3"
  },
  "orig_nbformat": 4
 },
 "nbformat": 4,
 "nbformat_minor": 2
}
