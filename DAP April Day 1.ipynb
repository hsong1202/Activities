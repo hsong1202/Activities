{
 "cells": [
  {
   "cell_type": "code",
   "execution_count": 4,
   "metadata": {},
   "outputs": [
    {
     "name": "stdout",
     "output_type": "stream",
     "text": [
      "0    20\n",
      "1    40\n",
      "2    60\n",
      "dtype: int64\n",
      "60\n"
     ]
    }
   ],
   "source": [
    "import numpy as np\n",
    "import pandas as pd\n",
    "\n",
    "age = [20, 40, 60]\n",
    "\n",
    "years = pd.Series(age)\n",
    "\n",
    "print(years)\n",
    "\n",
    "print(years[2])\n"
   ]
  },
  {
   "cell_type": "code",
   "execution_count": 31,
   "metadata": {},
   "outputs": [
    {
     "name": "stdout",
     "output_type": "stream",
     "text": [
      "   courses   fees  discount\n",
      "0    Spark  22000      1000\n",
      "1  PySpark  25000      2300\n",
      "2   Hadoop  23000      1000\n",
      "    courses   fees  discount\n",
      "r1    Spark  22000      1000\n",
      "r2  PySpark  25000      2300\n",
      "r3   Hadoop  23000      1000\n",
      "    Courses  Course_Fee  Course_Discount\n",
      "r1    Spark       22000             1000\n",
      "r2  PySpark       25000             2300\n",
      "r3   Hadoop       23000             1000\n",
      "  index  Courses  Course_Fee  Course_Discount\n",
      "0    r1    Spark       22000             1000\n",
      "1    r2  PySpark       25000             2300\n",
      "2    r3   Hadoop       23000             1000\n",
      "  index  Courses  Course_Fee  Course_Discount\n",
      "0    r1    Spark       22000             1000\n",
      "1    r2  PySpark       25000             2300\n",
      "2    r3   Hadoop       23000             1000\n"
     ]
    }
   ],
   "source": [
    "import pandas as pd\n",
    "\n",
    "# courses = pd.Series([\"Spark\",\"PySpark\",\"Hadoop\"])\n",
    "# fees = pd.Series([22000,25000, 23000])\n",
    "# discount = pd.Series([1000,2300,1000])\n",
    "\n",
    "# print(courses)\n",
    "# print(fees)\n",
    "# print(discount)\n",
    "\n",
    "\n",
    "#combine 2 series\n",
    "# df = pd.concat([courses, fees],axis =1)\n",
    "# print(df)\n",
    "\n",
    "\n",
    "#combine multiple series\n",
    "# df = pd.concat([courses, fees, discount], axis =1)\n",
    "# print(df)\n",
    "\n",
    "\n",
    "# add column names\n",
    "courses = pd.Series([\"Spark\",\"PySpark\",\"Hadoop\"], name = \"courses\")\n",
    "fees = pd.Series([22000,25000, 23000], name = \"fees\")\n",
    "discount = pd.Series([1000,2300,1000], name = \"discount\")\n",
    "df = pd.concat([courses, fees, discount], axis =1)\n",
    "print(df)\n",
    "\n",
    "\n",
    "# #4 assign indices to series\n",
    "index_labels = ['r1','r2','r3']\n",
    "courses.index = index_labels\n",
    "fees.index = index_labels\n",
    "discount.index = index_labels\n",
    "df = pd.concat([courses, fees, discount], axis =1)\n",
    "print(df)\n",
    "\n",
    "\n",
    "df =pd.concat({\"Courses\":courses, \"Course_Fee\":fees, \"Course_Discount\":discount}, axis=1)\n",
    "print(df)\n",
    "\n",
    "df = df.reset_index(drop=False)\n",
    "print(df)\n",
    "\n",
    "df = df.reset_index(drop=True)\n",
    "print(df)"
   ]
  },
  {
   "cell_type": "code",
   "execution_count": 32,
   "metadata": {},
   "outputs": [
    {
     "name": "stdout",
     "output_type": "stream",
     "text": [
      "   courses   fees\n",
      "0    Spark  22000\n",
      "1  PySpark  25000\n",
      "2   Hadoop  23000\n"
     ]
    }
   ],
   "source": [
    "import pandas as pd\n",
    "\n",
    "courses = pd.Series([\"Spark\",\"PySpark\",\"Hadoop\"], name = \"courses\")\n",
    "fees = pd.Series([22000,25000, 23000], name = \"fees\")\n",
    "\n",
    "df = pd.merge(courses, fees, right_index=True, left_index=True)\n",
    "print(df)\n",
    "\n"
   ]
  },
  {
   "cell_type": "code",
   "execution_count": 36,
   "metadata": {},
   "outputs": [
    {
     "ename": "AttributeError",
     "evalue": "'Series' object has no attribute 'append'",
     "output_type": "error",
     "traceback": [
      "\u001b[1;31m---------------------------------------------------------------------------\u001b[0m",
      "\u001b[1;31mAttributeError\u001b[0m                            Traceback (most recent call last)",
      "\u001b[1;32m~\\AppData\\Local\\Temp\\ipykernel_8040\\2003150794.py\u001b[0m in \u001b[0;36m?\u001b[1;34m()\u001b[0m\n\u001b[0;32m      1\u001b[0m \u001b[1;32mimport\u001b[0m \u001b[0mpandas\u001b[0m \u001b[1;32mas\u001b[0m \u001b[0mpd\u001b[0m\u001b[1;33m\u001b[0m\u001b[1;33m\u001b[0m\u001b[0m\n\u001b[0;32m      2\u001b[0m \u001b[1;33m\u001b[0m\u001b[0m\n\u001b[0;32m      3\u001b[0m \u001b[0mcourses_am\u001b[0m \u001b[1;33m=\u001b[0m \u001b[0mpd\u001b[0m\u001b[1;33m.\u001b[0m\u001b[0mSeries\u001b[0m\u001b[1;33m(\u001b[0m\u001b[1;33m[\u001b[0m\u001b[1;34m\"Spark\"\u001b[0m\u001b[1;33m,\u001b[0m\u001b[1;34m\"PySpark\"\u001b[0m\u001b[1;33m,\u001b[0m\u001b[1;34m\"Hadoop\"\u001b[0m\u001b[1;33m]\u001b[0m\u001b[1;33m,\u001b[0m \u001b[0mname\u001b[0m \u001b[1;33m=\u001b[0m \u001b[1;34m\"courses_am\"\u001b[0m\u001b[1;33m)\u001b[0m\u001b[1;33m\u001b[0m\u001b[1;33m\u001b[0m\u001b[0m\n\u001b[0;32m      4\u001b[0m \u001b[0mcourses_pm\u001b[0m \u001b[1;33m=\u001b[0m \u001b[0mpd\u001b[0m\u001b[1;33m.\u001b[0m\u001b[0mSeries\u001b[0m\u001b[1;33m(\u001b[0m\u001b[1;33m[\u001b[0m\u001b[1;34m\"Pandas\"\u001b[0m\u001b[1;33m,\u001b[0m\u001b[1;34m\"Python\"\u001b[0m\u001b[1;33m,\u001b[0m\u001b[1;34m\"Scala\"\u001b[0m\u001b[1;33m]\u001b[0m\u001b[1;33m,\u001b[0m \u001b[0mname\u001b[0m \u001b[1;33m=\u001b[0m \u001b[1;34m\"courses_pm\"\u001b[0m\u001b[1;33m)\u001b[0m\u001b[1;33m\u001b[0m\u001b[1;33m\u001b[0m\u001b[0m\n\u001b[1;32m----> 5\u001b[1;33m \u001b[0mdf\u001b[0m \u001b[1;33m=\u001b[0m \u001b[0mpd\u001b[0m\u001b[1;33m.\u001b[0m\u001b[0mDataFrame\u001b[0m\u001b[1;33m(\u001b[0m\u001b[0mcourses_am\u001b[0m\u001b[1;33m.\u001b[0m\u001b[0mappend\u001b[0m\u001b[1;33m(\u001b[0m\u001b[0mcourses_pm\u001b[0m\u001b[1;33m,\u001b[0m \u001b[0mignore_index\u001b[0m \u001b[1;33m=\u001b[0m \u001b[1;32mTrue\u001b[0m\u001b[1;33m)\u001b[0m\u001b[1;33m,\u001b[0m \u001b[0mcolumns\u001b[0m\u001b[1;33m=\u001b[0m\u001b[1;33m[\u001b[0m\u001b[1;34m\"all_courses\"\u001b[0m\u001b[1;33m]\u001b[0m\u001b[1;33m)\u001b[0m\u001b[1;33m\u001b[0m\u001b[1;33m\u001b[0m\u001b[0m\n\u001b[0m",
      "\u001b[1;32mc:\\Users\\habum\\AppData\\Local\\Programs\\Python\\Python311\\Lib\\site-packages\\pandas\\core\\generic.py\u001b[0m in \u001b[0;36m?\u001b[1;34m(self, name)\u001b[0m\n\u001b[0;32m   5985\u001b[0m             \u001b[1;32mand\u001b[0m \u001b[0mname\u001b[0m \u001b[1;32mnot\u001b[0m \u001b[1;32min\u001b[0m \u001b[0mself\u001b[0m\u001b[1;33m.\u001b[0m\u001b[0m_accessors\u001b[0m\u001b[1;33m\u001b[0m\u001b[1;33m\u001b[0m\u001b[0m\n\u001b[0;32m   5986\u001b[0m             \u001b[1;32mand\u001b[0m \u001b[0mself\u001b[0m\u001b[1;33m.\u001b[0m\u001b[0m_info_axis\u001b[0m\u001b[1;33m.\u001b[0m\u001b[0m_can_hold_identifiers_and_holds_name\u001b[0m\u001b[1;33m(\u001b[0m\u001b[0mname\u001b[0m\u001b[1;33m)\u001b[0m\u001b[1;33m\u001b[0m\u001b[1;33m\u001b[0m\u001b[0m\n\u001b[0;32m   5987\u001b[0m         ):\n\u001b[0;32m   5988\u001b[0m             \u001b[1;32mreturn\u001b[0m \u001b[0mself\u001b[0m\u001b[1;33m[\u001b[0m\u001b[0mname\u001b[0m\u001b[1;33m]\u001b[0m\u001b[1;33m\u001b[0m\u001b[1;33m\u001b[0m\u001b[0m\n\u001b[1;32m-> 5989\u001b[1;33m         \u001b[1;32mreturn\u001b[0m \u001b[0mobject\u001b[0m\u001b[1;33m.\u001b[0m\u001b[0m__getattribute__\u001b[0m\u001b[1;33m(\u001b[0m\u001b[0mself\u001b[0m\u001b[1;33m,\u001b[0m \u001b[0mname\u001b[0m\u001b[1;33m)\u001b[0m\u001b[1;33m\u001b[0m\u001b[1;33m\u001b[0m\u001b[0m\n\u001b[0m",
      "\u001b[1;31mAttributeError\u001b[0m: 'Series' object has no attribute 'append'"
     ]
    }
   ],
   "source": [
    "import pandas as pd\n",
    "\n",
    "courses_am = pd.Series([\"Spark\",\"PySpark\",\"Hadoop\"], name = \"courses_am\")\n",
    "courses_pm = pd.Series([\"Pandas\",\"Python\",\"Scala\"], name = \"courses_pm\")\n",
    "df = pd.DataFrame(courses_am.apply(courses_pm, ignore_index = True), columns=[\"all_courses\"])"
   ]
  },
  {
   "cell_type": "code",
   "execution_count": 35,
   "metadata": {},
   "outputs": [
    {
     "name": "stdout",
     "output_type": "stream",
     "text": [
      "   courses   fees\n",
      "0    Spark  22000\n",
      "1  PySpark  25000\n",
      "2   Hadoop  23000\n"
     ]
    }
   ],
   "source": [
    "import pandas as pd\n",
    "\n",
    "courses = pd.Series([\"Spark\",\"PySpark\",\"Hadoop\"], name = \"courses\")\n",
    "fees = pd.Series([22000,25000, 23000], name = \"fees\")\n",
    "\n",
    "df = pd.DataFrame(courses).join(fees)\n",
    "print(df)"
   ]
  },
  {
   "cell_type": "code",
   "execution_count": 50,
   "metadata": {},
   "outputs": [
    {
     "name": "stdout",
     "output_type": "stream",
     "text": [
      "{'apples': [3, 2, 0, 1], 'oranges': [0, 3, 7, 2]}\n",
      "   apples  oranges\n",
      "0       3        0\n",
      "1       2        3\n",
      "2       0        7\n",
      "3       1        2\n",
      "        apples  oranges\n",
      "June         3        0\n",
      "Robert       2        3\n",
      "Lily         0        7\n",
      "David        1        2\n",
      "\n",
      "\n",
      "June      0\n",
      "Robert    3\n",
      "Lily      7\n",
      "David     2\n",
      "Name: oranges, dtype: int64\n",
      "\n",
      "\n",
      "apples     3\n",
      "oranges    0\n",
      "Name: June, dtype: int64\n"
     ]
    }
   ],
   "source": [
    "import pandas as pd\n",
    "\n",
    "data = {'apples':[3,2,0,1], 'oranges':[0,3,7,2]}\n",
    "\n",
    "purchases= pd.DataFrame(data)\n",
    "\n",
    "print(data)\n",
    "print(purchases)\n",
    "\n",
    "purchases = pd.DataFrame(data, index=[\"June\",\"Robert\",\"Lily\",\"David\"])\n",
    "print(purchases)\n",
    "\n",
    "print('\\n')\n",
    "\n",
    "#retrieving data by column\n",
    "print(purchases[\"oranges\"])\n",
    "\n",
    "print('\\n')\n",
    "\n",
    "#retrieveing data by row\n",
    "print(purchases.loc[\"June\"])"
   ]
  },
  {
   "cell_type": "code",
   "execution_count": 60,
   "metadata": {},
   "outputs": [
    {
     "name": "stdout",
     "output_type": "stream",
     "text": [
      "{'Classes': ['Math', 'Science', 'Spanish', 'History', 'Health'], 'Grades': [75, 80, 95, 60, 100]}\n",
      "\n",
      "\n",
      "   Classes  Grades\n",
      "0     Math      75\n",
      "1  Science      80\n",
      "2  Spanish      95\n",
      "3  History      60\n",
      "4   Health     100\n",
      "\n",
      "\n",
      "Classes    History\n",
      "Grades          60\n",
      "Name: 3, dtype: object\n",
      "   Classes  Grades\n",
      "0     Math      75\n",
      "1  Science      80\n",
      "2  Spanish      95\n",
      "3  History      60\n",
      "4   Health     100\n",
      "   Classes  Grades\n",
      "2  Spanish      95\n",
      "3  History      60\n",
      "       Classes  Grades\n",
      "week1     Math      75\n",
      "week2  Science      80\n",
      "week3  Spanish      95\n",
      "week4  History      60\n",
      "week5   Health     100\n",
      "       Classes  Grades\n",
      "week2  Science      80\n",
      "week5   Health     100\n"
     ]
    }
   ],
   "source": [
    "import pandas as pd\n",
    "\n",
    "report = {\n",
    "    \"Classes\": [\"Math\", \"Science\", \"Spanish\", \"History\", \"Health\"],\n",
    "    \"Grades\": [75, 80, 95, 60, 100]\n",
    "}\n",
    "results = pd.DataFrame(report)\n",
    "\n",
    "print(report)\n",
    "\n",
    "print(\"\\n\")\n",
    "\n",
    "print(results)\n",
    "\n",
    "print(\"\\n\")\n",
    "\n",
    "print(results.loc[3])\n",
    "\n",
    "print(results)\n",
    "\n",
    "print(results.loc[[2,3]])\n",
    "\n",
    "results = pd.DataFrame(report, index=[\"week1\", \"week2\", \"week3\", \"week4\", \"week5\" ])\n",
    "print(results)\n",
    "\n",
    "print(results.loc[[\"week2\",\"week5\"]])\n"
   ]
  },
  {
   "cell_type": "code",
   "execution_count": 75,
   "metadata": {},
   "outputs": [
    {
     "name": "stdout",
     "output_type": "stream",
     "text": [
      "         Country  Year   Population Continent\n",
      "6   South Africa  1966          NaN    Africa\n",
      "7  United States  1957  171984000.0  Americas\n",
      "2         Brazil  1962   76039390.0  Americas\n",
      "5          India  1952  372000000.0      Asia\n",
      "3          China  1957  637408000.0      Asia\n",
      "0    Afghanistan  1952    8425333.0      Asia\n",
      "4         France  1957   44310863.0    Europe\n",
      "1      Australia  1957    9712569.0   Oceania\n"
     ]
    }
   ],
   "source": [
    "import pandas as pd\n",
    "import numpy as np\n",
    "\n",
    "population_list = [['Afghanistan', 1952, 8425333, 'Asia'],\n",
    "            ['Australia', 1957, 9712569, 'Oceania'],\n",
    "            ['Brazil', 1962, 76039390, 'Americas'],\n",
    "            ['China', 1957, 637408000, 'Asia'],\n",
    "            ['France', 1957, 44310863, 'Europe'],\n",
    "            ['India', 1952, 3.72e+08, 'Asia'],\n",
    "            ['South Africa', 1966, np.NaN, 'Africa'],\n",
    "            ['United States', 1957, 171984000, 'Americas']]\n",
    "\n",
    "df = pd.DataFrame(population_list, columns=[\"Country\",\"Year\",\"Population\",\"Continent\"])\n",
    "# print(df)\n",
    "\n",
    "# df.sort_values(by=[\"Continent\"], inplace=True)\n",
    "# print(f\"sorted df: \\n{df}\")\n",
    "\n",
    "# df.sort_values(by=[\"Population\"], inplace=True, ascending=False)\n",
    "# print(f\"sorted df: \\n{df}\")\n",
    "\n",
    "# df.sort_values(by=[\"Continent\",\"Country\"], inplace=True)\n",
    "\n",
    "df.sort_values(by=[\"Continent\",\"Country\"], inplace=True, ascending=[True,False])\n",
    "print(df)\n",
    "\n"
   ]
  },
  {
   "cell_type": "code",
   "execution_count": 93,
   "metadata": {},
   "outputs": [
    {
     "name": "stdout",
     "output_type": "stream",
     "text": [
      "      Name  Height  Age                  Industry State  Pets       Sport\n",
      "0  Dakotah     6.0   30                   Finance    NJ   dog        None\n",
      "1   Shelly     5.5   38                        IT    MO   cat  Volleyball\n",
      "2     Trey     5.8   33        Personnel Tracking    VA  none    Baseball\n",
      "3    Chris     6.0   33                  Hospital    CA   dog  Volleyball\n",
      "4      Sam     5.1   36              Govt Finance    OH  fish      Soccer\n",
      "5     Nick     6.2   37                  Software    NV  none        None\n",
      "6    Habum     6.0   31                        IT    NV   cat  Basketball\n",
      "7   Carlos     5.8   29  Water Resource Mangement    CA   dog  Pickleball\n"
     ]
    }
   ],
   "source": [
    "import pandas as pd\n",
    "\n",
    "data = {\"Name\":[\"Dakotah\",\"Shelly\",\"Trey\",\"Chris\",\"Sam\",\"Nick\",\"Habum\",\"Carlos\"], \n",
    "        \"Height\":[6.0,5.5,5.8,6.0,5.10,6.2,6.0,5.8],\n",
    "        \"Industry\":[\"Finance\",\"IT\",\"Personnel Tracking\",\"Hospital\",\"Govt Finance\",\"Software\",\"IT\",\"Water Resource Mangement\"]}\n",
    "\n",
    "df = pd.DataFrame(data)\n",
    "\n",
    "states = [\"NJ\", \"MO\",\"VA\",\"CA\",\"OH\",\"NV\",\"NV\",\"CA\"]\n",
    "\n",
    "df[\"State\"] = states\n",
    "\n",
    "ages = [30, 38,  33, 33, 36, 37, 31, 29]\n",
    "\n",
    "#insert()\n",
    "df.insert(2,\"Age\", ages, True)\n",
    "\n",
    "pets = [\"dog\", \"cat\", \"none\", \"dog\", \"fish\", \"none\", \"cat\", \"dog\"]\n",
    "\n",
    "df = df.assign(Pets=pets)\n",
    "\n",
    "sports = {\"Shelly\": \"Volleyball\", \"Dakotah\": \"None\", \"Carlos\": \"Pickleball\", \"Trey\": \"Baseball\", \"Chris\": \"Volleyball\", \"Sam\":\"Soccer\", \"Habum\":\"Basketball\", \"Nick\":\"None\"}\n",
    "\n",
    "df[\"Sport\"] = df[\"Name\"].map(sports)\n",
    "\n",
    "print(df)\n",
    "\n",
    "\n",
    "help(pd.DataFrame.assign)"
   ]
  },
  {
   "cell_type": "code",
   "execution_count": 96,
   "metadata": {},
   "outputs": [
    {
     "name": "stdout",
     "output_type": "stream",
     "text": [
      "50\n",
      "   ID#          Name Type 1  Type 2  Defense  Attack  Unnamed: 6\n",
      "0    1     Bulbasaur  Grass  Poison       56     100         NaN\n",
      "1    2       Ivysaur  Grass  Poison       51      52         NaN\n",
      "2    3      Venusaur  Grass  Poison       45      84         NaN\n",
      "3    4    Charmander   Fire     NaN       51      43         NaN\n",
      "4    5    Charmeleon   Fire     NaN       64      39         NaN\n",
      "5    6     Charizard   Fire  Flying       42      81         NaN\n",
      "6    7      Squirtle  Water     NaN       72      80         NaN\n",
      "7    8     Wartortle  Water     NaN       35      45         NaN\n",
      "8    9     Blastoise  Water     NaN       57      96         NaN\n",
      "9   10      Caterpie    Bug     NaN       67      68         NaN\n",
      "    ID#         Name  Type 1  Type 2  Defense  Attack  Unnamed: 6\n",
      "7     8    Wartortle   Water     NaN       35      45         NaN\n",
      "8     9    Blastoise   Water     NaN       57      96         NaN\n",
      "9    10     Caterpie     Bug     NaN       67      68         NaN\n",
      "10   11      Metapod     Bug     NaN       61      65         NaN\n",
      "11   12   Butterfree     Bug  Flying       37      51         NaN\n",
      "12   13       Weedle     Bug  Poison       64      35         NaN\n",
      "13   14       Kakuna     Bug  Poison       90      81         NaN\n",
      "14   15     Beedrill     Bug  Poison       46      77         NaN\n",
      "15   16       Pidgey  Normal  Flying       65      91         NaN\n",
      "16   17     Pigeotto  Normal  Flying       48      56         NaN\n",
      "17   18       Pideot  Normal  Flying       90      99         NaN\n",
      "18   19      Rattata  Normal     NaN       77      80         NaN\n",
      "19   20     Raticate  Normal     NaN       43      46         NaN\n",
      "20   21      Spearow  Normal  Flying       90      61         NaN\n",
      "21   22       Fearow  Normal  Flying       82      68         NaN\n",
      "<class 'pandas.core.frame.DataFrame'>\n",
      "RangeIndex: 22 entries, 0 to 21\n",
      "Data columns (total 7 columns):\n",
      " #   Column      Non-Null Count  Dtype  \n",
      "---  ------      --------------  -----  \n",
      " 0   ID#         22 non-null     int64  \n",
      " 1     Name      22 non-null     object \n",
      " 2   Type 1      22 non-null     object \n",
      " 3   Type 2      13 non-null     object \n",
      " 4   Defense     22 non-null     int64  \n",
      " 5   Attack      22 non-null     int64  \n",
      " 6   Unnamed: 6  0 non-null      float64\n",
      "dtypes: float64(1), int64(3), object(3)\n",
      "memory usage: 1.3+ KB\n"
     ]
    }
   ],
   "source": [
    "import pandas as pd\n",
    "\n",
    "pd.options.display.max_rows =50\n",
    "print(pd.options.display.max_rows)\n",
    "\n",
    "df = pd.read_csv(\"Python_LoopPractice.csv\")\n",
    "\n",
    "print(df.head(10))\n",
    "print(df.tail(15))\n",
    "\n",
    "df.info()\n",
    "\n"
   ]
  }
 ],
 "metadata": {
  "kernelspec": {
   "display_name": "Python 3",
   "language": "python",
   "name": "python3"
  },
  "language_info": {
   "codemirror_mode": {
    "name": "ipython",
    "version": 3
   },
   "file_extension": ".py",
   "mimetype": "text/x-python",
   "name": "python",
   "nbconvert_exporter": "python",
   "pygments_lexer": "ipython3",
   "version": "3.11.3"
  },
  "orig_nbformat": 4
 },
 "nbformat": 4,
 "nbformat_minor": 2
}
